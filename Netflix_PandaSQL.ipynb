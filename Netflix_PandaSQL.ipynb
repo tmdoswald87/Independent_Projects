{
 "cells": [
  {
   "cell_type": "markdown",
   "metadata": {},
   "source": [
    "## Using PandaSQL and sqlite3 with pandas"
   ]
  },
  {
   "cell_type": "markdown",
   "metadata": {},
   "source": [
    "The objective of this notebook is to make some SQL queries as well as try and identify any useful information out of the \n",
    "netflix_title dataset. This dataset is available below:\n",
    "    \n",
    "https://www.kaggle.com/shivamb/netflix-shows"
   ]
  },
  {
   "cell_type": "code",
   "execution_count": 1,
   "metadata": {},
   "outputs": [],
   "source": [
    "import sqlite3\n",
    "import pandas as pd\n",
    "from pandasql import sqldf\n",
    "import matplotlib.pyplot as plt\n",
    "from sqlalchemy import create_engine"
   ]
  },
  {
   "cell_type": "code",
   "execution_count": 2,
   "metadata": {},
   "outputs": [
    {
     "name": "stdout",
     "output_type": "stream",
     "text": [
      "There are  7787  items in the netflix csv\n"
     ]
    },
    {
     "data": {
      "text/html": [
       "<div>\n",
       "<style scoped>\n",
       "    .dataframe tbody tr th:only-of-type {\n",
       "        vertical-align: middle;\n",
       "    }\n",
       "\n",
       "    .dataframe tbody tr th {\n",
       "        vertical-align: top;\n",
       "    }\n",
       "\n",
       "    .dataframe thead th {\n",
       "        text-align: right;\n",
       "    }\n",
       "</style>\n",
       "<table border=\"1\" class=\"dataframe\">\n",
       "  <thead>\n",
       "    <tr style=\"text-align: right;\">\n",
       "      <th></th>\n",
       "      <th>show_id</th>\n",
       "      <th>type</th>\n",
       "      <th>title</th>\n",
       "      <th>director</th>\n",
       "      <th>cast</th>\n",
       "      <th>country</th>\n",
       "      <th>date_added</th>\n",
       "      <th>release_year</th>\n",
       "      <th>rating</th>\n",
       "      <th>duration</th>\n",
       "      <th>listed_in</th>\n",
       "      <th>description</th>\n",
       "    </tr>\n",
       "  </thead>\n",
       "  <tbody>\n",
       "    <tr>\n",
       "      <th>0</th>\n",
       "      <td>s1</td>\n",
       "      <td>TV Show</td>\n",
       "      <td>3%</td>\n",
       "      <td>NaN</td>\n",
       "      <td>João Miguel, Bianca Comparato, Michel Gomes, R...</td>\n",
       "      <td>Brazil</td>\n",
       "      <td>August 14, 2020</td>\n",
       "      <td>2020</td>\n",
       "      <td>TV-MA</td>\n",
       "      <td>4 Seasons</td>\n",
       "      <td>International TV Shows, TV Dramas, TV Sci-Fi &amp;...</td>\n",
       "      <td>In a future where the elite inhabit an island ...</td>\n",
       "    </tr>\n",
       "    <tr>\n",
       "      <th>1</th>\n",
       "      <td>s2</td>\n",
       "      <td>Movie</td>\n",
       "      <td>7:19</td>\n",
       "      <td>Jorge Michel Grau</td>\n",
       "      <td>Demián Bichir, Héctor Bonilla, Oscar Serrano, ...</td>\n",
       "      <td>Mexico</td>\n",
       "      <td>December 23, 2016</td>\n",
       "      <td>2016</td>\n",
       "      <td>TV-MA</td>\n",
       "      <td>93 min</td>\n",
       "      <td>Dramas, International Movies</td>\n",
       "      <td>After a devastating earthquake hits Mexico Cit...</td>\n",
       "    </tr>\n",
       "    <tr>\n",
       "      <th>2</th>\n",
       "      <td>s3</td>\n",
       "      <td>Movie</td>\n",
       "      <td>23:59</td>\n",
       "      <td>Gilbert Chan</td>\n",
       "      <td>Tedd Chan, Stella Chung, Henley Hii, Lawrence ...</td>\n",
       "      <td>Singapore</td>\n",
       "      <td>December 20, 2018</td>\n",
       "      <td>2011</td>\n",
       "      <td>R</td>\n",
       "      <td>78 min</td>\n",
       "      <td>Horror Movies, International Movies</td>\n",
       "      <td>When an army recruit is found dead, his fellow...</td>\n",
       "    </tr>\n",
       "    <tr>\n",
       "      <th>3</th>\n",
       "      <td>s4</td>\n",
       "      <td>Movie</td>\n",
       "      <td>9</td>\n",
       "      <td>Shane Acker</td>\n",
       "      <td>Elijah Wood, John C. Reilly, Jennifer Connelly...</td>\n",
       "      <td>United States</td>\n",
       "      <td>November 16, 2017</td>\n",
       "      <td>2009</td>\n",
       "      <td>PG-13</td>\n",
       "      <td>80 min</td>\n",
       "      <td>Action &amp; Adventure, Independent Movies, Sci-Fi...</td>\n",
       "      <td>In a postapocalyptic world, rag-doll robots hi...</td>\n",
       "    </tr>\n",
       "    <tr>\n",
       "      <th>4</th>\n",
       "      <td>s5</td>\n",
       "      <td>Movie</td>\n",
       "      <td>21</td>\n",
       "      <td>Robert Luketic</td>\n",
       "      <td>Jim Sturgess, Kevin Spacey, Kate Bosworth, Aar...</td>\n",
       "      <td>United States</td>\n",
       "      <td>January 1, 2020</td>\n",
       "      <td>2008</td>\n",
       "      <td>PG-13</td>\n",
       "      <td>123 min</td>\n",
       "      <td>Dramas</td>\n",
       "      <td>A brilliant group of students become card-coun...</td>\n",
       "    </tr>\n",
       "  </tbody>\n",
       "</table>\n",
       "</div>"
      ],
      "text/plain": [
       "  show_id     type  title           director  \\\n",
       "0      s1  TV Show     3%                NaN   \n",
       "1      s2    Movie   7:19  Jorge Michel Grau   \n",
       "2      s3    Movie  23:59       Gilbert Chan   \n",
       "3      s4    Movie      9        Shane Acker   \n",
       "4      s5    Movie     21     Robert Luketic   \n",
       "\n",
       "                                                cast        country  \\\n",
       "0  João Miguel, Bianca Comparato, Michel Gomes, R...         Brazil   \n",
       "1  Demián Bichir, Héctor Bonilla, Oscar Serrano, ...         Mexico   \n",
       "2  Tedd Chan, Stella Chung, Henley Hii, Lawrence ...      Singapore   \n",
       "3  Elijah Wood, John C. Reilly, Jennifer Connelly...  United States   \n",
       "4  Jim Sturgess, Kevin Spacey, Kate Bosworth, Aar...  United States   \n",
       "\n",
       "          date_added  release_year rating   duration  \\\n",
       "0    August 14, 2020          2020  TV-MA  4 Seasons   \n",
       "1  December 23, 2016          2016  TV-MA     93 min   \n",
       "2  December 20, 2018          2011      R     78 min   \n",
       "3  November 16, 2017          2009  PG-13     80 min   \n",
       "4    January 1, 2020          2008  PG-13    123 min   \n",
       "\n",
       "                                           listed_in  \\\n",
       "0  International TV Shows, TV Dramas, TV Sci-Fi &...   \n",
       "1                       Dramas, International Movies   \n",
       "2                Horror Movies, International Movies   \n",
       "3  Action & Adventure, Independent Movies, Sci-Fi...   \n",
       "4                                             Dramas   \n",
       "\n",
       "                                         description  \n",
       "0  In a future where the elite inhabit an island ...  \n",
       "1  After a devastating earthquake hits Mexico Cit...  \n",
       "2  When an army recruit is found dead, his fellow...  \n",
       "3  In a postapocalyptic world, rag-doll robots hi...  \n",
       "4  A brilliant group of students become card-coun...  "
      ]
     },
     "execution_count": 2,
     "metadata": {},
     "output_type": "execute_result"
    }
   ],
   "source": [
    "data = pd.read_csv(\"netflix_titles.csv\")\n",
    "print(\"There are \", len(data), \" items in the netflix csv\")\n",
    "data.head()"
   ]
  },
  {
   "cell_type": "code",
   "execution_count": 3,
   "metadata": {},
   "outputs": [
    {
     "name": "stdout",
     "output_type": "stream",
     "text": [
      "There are  5377  movies in the netflix csv\n"
     ]
    },
    {
     "data": {
      "text/html": [
       "<div>\n",
       "<style scoped>\n",
       "    .dataframe tbody tr th:only-of-type {\n",
       "        vertical-align: middle;\n",
       "    }\n",
       "\n",
       "    .dataframe tbody tr th {\n",
       "        vertical-align: top;\n",
       "    }\n",
       "\n",
       "    .dataframe thead th {\n",
       "        text-align: right;\n",
       "    }\n",
       "</style>\n",
       "<table border=\"1\" class=\"dataframe\">\n",
       "  <thead>\n",
       "    <tr style=\"text-align: right;\">\n",
       "      <th></th>\n",
       "      <th>show_id</th>\n",
       "      <th>type</th>\n",
       "      <th>title</th>\n",
       "      <th>director</th>\n",
       "      <th>cast</th>\n",
       "      <th>country</th>\n",
       "      <th>date_added</th>\n",
       "      <th>release_year</th>\n",
       "      <th>rating</th>\n",
       "      <th>duration</th>\n",
       "      <th>listed_in</th>\n",
       "      <th>description</th>\n",
       "    </tr>\n",
       "  </thead>\n",
       "  <tbody>\n",
       "    <tr>\n",
       "      <th>1</th>\n",
       "      <td>s2</td>\n",
       "      <td>Movie</td>\n",
       "      <td>7:19</td>\n",
       "      <td>Jorge Michel Grau</td>\n",
       "      <td>Demián Bichir, Héctor Bonilla, Oscar Serrano, ...</td>\n",
       "      <td>Mexico</td>\n",
       "      <td>December 23, 2016</td>\n",
       "      <td>2016</td>\n",
       "      <td>TV-MA</td>\n",
       "      <td>93 min</td>\n",
       "      <td>Dramas, International Movies</td>\n",
       "      <td>After a devastating earthquake hits Mexico Cit...</td>\n",
       "    </tr>\n",
       "    <tr>\n",
       "      <th>2</th>\n",
       "      <td>s3</td>\n",
       "      <td>Movie</td>\n",
       "      <td>23:59</td>\n",
       "      <td>Gilbert Chan</td>\n",
       "      <td>Tedd Chan, Stella Chung, Henley Hii, Lawrence ...</td>\n",
       "      <td>Singapore</td>\n",
       "      <td>December 20, 2018</td>\n",
       "      <td>2011</td>\n",
       "      <td>R</td>\n",
       "      <td>78 min</td>\n",
       "      <td>Horror Movies, International Movies</td>\n",
       "      <td>When an army recruit is found dead, his fellow...</td>\n",
       "    </tr>\n",
       "    <tr>\n",
       "      <th>3</th>\n",
       "      <td>s4</td>\n",
       "      <td>Movie</td>\n",
       "      <td>9</td>\n",
       "      <td>Shane Acker</td>\n",
       "      <td>Elijah Wood, John C. Reilly, Jennifer Connelly...</td>\n",
       "      <td>United States</td>\n",
       "      <td>November 16, 2017</td>\n",
       "      <td>2009</td>\n",
       "      <td>PG-13</td>\n",
       "      <td>80 min</td>\n",
       "      <td>Action &amp; Adventure, Independent Movies, Sci-Fi...</td>\n",
       "      <td>In a postapocalyptic world, rag-doll robots hi...</td>\n",
       "    </tr>\n",
       "    <tr>\n",
       "      <th>4</th>\n",
       "      <td>s5</td>\n",
       "      <td>Movie</td>\n",
       "      <td>21</td>\n",
       "      <td>Robert Luketic</td>\n",
       "      <td>Jim Sturgess, Kevin Spacey, Kate Bosworth, Aar...</td>\n",
       "      <td>United States</td>\n",
       "      <td>January 1, 2020</td>\n",
       "      <td>2008</td>\n",
       "      <td>PG-13</td>\n",
       "      <td>123 min</td>\n",
       "      <td>Dramas</td>\n",
       "      <td>A brilliant group of students become card-coun...</td>\n",
       "    </tr>\n",
       "    <tr>\n",
       "      <th>6</th>\n",
       "      <td>s7</td>\n",
       "      <td>Movie</td>\n",
       "      <td>122</td>\n",
       "      <td>Yasir Al Yasiri</td>\n",
       "      <td>Amina Khalil, Ahmed Dawood, Tarek Lotfy, Ahmed...</td>\n",
       "      <td>Egypt</td>\n",
       "      <td>June 1, 2020</td>\n",
       "      <td>2019</td>\n",
       "      <td>TV-MA</td>\n",
       "      <td>95 min</td>\n",
       "      <td>Horror Movies, International Movies</td>\n",
       "      <td>After an awful accident, a couple admitted to ...</td>\n",
       "    </tr>\n",
       "  </tbody>\n",
       "</table>\n",
       "</div>"
      ],
      "text/plain": [
       "  show_id   type  title           director  \\\n",
       "1      s2  Movie   7:19  Jorge Michel Grau   \n",
       "2      s3  Movie  23:59       Gilbert Chan   \n",
       "3      s4  Movie      9        Shane Acker   \n",
       "4      s5  Movie     21     Robert Luketic   \n",
       "6      s7  Movie    122    Yasir Al Yasiri   \n",
       "\n",
       "                                                cast        country  \\\n",
       "1  Demián Bichir, Héctor Bonilla, Oscar Serrano, ...         Mexico   \n",
       "2  Tedd Chan, Stella Chung, Henley Hii, Lawrence ...      Singapore   \n",
       "3  Elijah Wood, John C. Reilly, Jennifer Connelly...  United States   \n",
       "4  Jim Sturgess, Kevin Spacey, Kate Bosworth, Aar...  United States   \n",
       "6  Amina Khalil, Ahmed Dawood, Tarek Lotfy, Ahmed...          Egypt   \n",
       "\n",
       "          date_added  release_year rating duration  \\\n",
       "1  December 23, 2016          2016  TV-MA   93 min   \n",
       "2  December 20, 2018          2011      R   78 min   \n",
       "3  November 16, 2017          2009  PG-13   80 min   \n",
       "4    January 1, 2020          2008  PG-13  123 min   \n",
       "6       June 1, 2020          2019  TV-MA   95 min   \n",
       "\n",
       "                                           listed_in  \\\n",
       "1                       Dramas, International Movies   \n",
       "2                Horror Movies, International Movies   \n",
       "3  Action & Adventure, Independent Movies, Sci-Fi...   \n",
       "4                                             Dramas   \n",
       "6                Horror Movies, International Movies   \n",
       "\n",
       "                                         description  \n",
       "1  After a devastating earthquake hits Mexico Cit...  \n",
       "2  When an army recruit is found dead, his fellow...  \n",
       "3  In a postapocalyptic world, rag-doll robots hi...  \n",
       "4  A brilliant group of students become card-coun...  \n",
       "6  After an awful accident, a couple admitted to ...  "
      ]
     },
     "execution_count": 3,
     "metadata": {},
     "output_type": "execute_result"
    }
   ],
   "source": [
    "is_Movie = data['type'] == 'Movie'\n",
    "df = data[is_Movie]\n",
    "print(\"There are \", len(df), \" movies in the netflix csv\")\n",
    "df.head()"
   ]
  },
  {
   "cell_type": "markdown",
   "metadata": {},
   "source": [
    "Lets use SQL to do the exat same thing as above"
   ]
  },
  {
   "cell_type": "code",
   "execution_count": 4,
   "metadata": {},
   "outputs": [
    {
     "name": "stdout",
     "output_type": "stream",
     "text": [
      "   count(type)     type\n",
      "0         5377    Movie\n",
      "1         2410  TV Show\n"
     ]
    }
   ],
   "source": [
    "query = \"\"\"\n",
    "            SELECT count(type), type\n",
    "            FROM data\n",
    "            GROUP BY type\n",
    "        \"\"\"\n",
    "print(sqldf(query))"
   ]
  },
  {
   "cell_type": "markdown",
   "metadata": {},
   "source": [
    "### Lets do some basic queries"
   ]
  },
  {
   "cell_type": "markdown",
   "metadata": {},
   "source": [
    "* Find all the movies that mention the word 'zombie' in the description\n",
    "\n",
    "* Now lets find the sum of all the movies & TV-Shows that mention the word 'zombie' in the description\n",
    "\n",
    "* Who is the most common 'movie' director in netflix_titles.csv\n",
    "\n",
    "* Find a count of all 'movies' released in the United States per year"
   ]
  },
  {
   "cell_type": "markdown",
   "metadata": {},
   "source": [
    "1) Find all the movies that mention the word 'zombie' in the description"
   ]
  },
  {
   "cell_type": "code",
   "execution_count": 5,
   "metadata": {},
   "outputs": [
    {
     "name": "stdout",
     "output_type": "stream",
     "text": [
      "                                     title\n",
      "0   Bill Burr: I'm Sorry You Feel That Way\n",
      "1               Day of the Dead: Bloodline\n",
      "2                               Here Alone\n",
      "3                                 KL Zombi\n",
      "4                 Little Singham: Mahabali\n",
      "5                               ParaNorman\n",
      "6                                 Ravenous\n",
      "7              Scooby-Doo on Zombie Island\n",
      "8                            The Evil Dead\n",
      "9                               The Rezort\n",
      "10                          Train to Busan\n",
      "11                              Zombieland\n"
     ]
    }
   ],
   "source": [
    "query = \"\"\"\n",
    "            SELECT title\n",
    "            FROM data\n",
    "            WHERE type = 'Movie' AND description LIKE '%zombie%'\n",
    "        \"\"\"\n",
    "print(sqldf(query))"
   ]
  },
  {
   "cell_type": "markdown",
   "metadata": {},
   "source": [
    "2) Now lets find the sum of all the movies & TV-Shows that mention the word 'zombie' in the description"
   ]
  },
  {
   "cell_type": "code",
   "execution_count": 6,
   "metadata": {},
   "outputs": [
    {
     "name": "stdout",
     "output_type": "stream",
     "text": [
      "   num_zombie_references\n",
      "0                     22\n"
     ]
    }
   ],
   "source": [
    "query = \"\"\"\n",
    "            SELECT count(title) as num_zombie_references\n",
    "            FROM data\n",
    "            WHERE description LIKE '%zombie%'\n",
    "        \"\"\"\n",
    "print(sqldf(query))"
   ]
  },
  {
   "cell_type": "markdown",
   "metadata": {},
   "source": [
    "3) Who is the most common 'movie' director in netflix_titles.csv"
   ]
  },
  {
   "cell_type": "code",
   "execution_count": 7,
   "metadata": {},
   "outputs": [
    {
     "name": "stdout",
     "output_type": "stream",
     "text": [
      "                  director  num\n",
      "0   Raúl Campos, Jan Suter   18\n",
      "1             Marcus Raboy   15\n",
      "2                Jay Karas   14\n",
      "3      Cathy Garcia-Molina   13\n",
      "4              Jay Chapman   12\n",
      "5          Martin Scorsese   12\n",
      "6          Youssef Chahine   12\n",
      "7         Steven Spielberg   10\n",
      "8             David Dhawan    9\n",
      "9              Hakan Algül    8\n",
      "10              Johnnie To    8\n",
      "11          Kunle Afolayan    8\n",
      "12             Lance Bangs    8\n",
      "13        Robert Rodriguez    8\n",
      "14         Shannon Hartman    8\n",
      "15        Don Michael Paul    7\n",
      "16         Fernando Ayllón    7\n",
      "17          Justin G. Dyck    7\n",
      "18                     McG    7\n",
      "19             Omoni Oboli    7\n"
     ]
    }
   ],
   "source": [
    "query = \"\"\"\n",
    "            SELECT director, count(director) as num \n",
    "            FROM data\n",
    "            WHERE type = 'Movie'\n",
    "            GROUP BY director\n",
    "            ORDER BY count(director) DESC\n",
    "            LIMIT 20\n",
    "        \"\"\"\n",
    "print(sqldf(query))"
   ]
  },
  {
   "cell_type": "markdown",
   "metadata": {},
   "source": [
    "4) Lets find a count of all 'movies' released in the United States per year"
   ]
  },
  {
   "cell_type": "code",
   "execution_count": 8,
   "metadata": {},
   "outputs": [
    {
     "name": "stdout",
     "output_type": "stream",
     "text": [
      "    count(title)  release_year\n",
      "0              2          1942\n",
      "1              3          1943\n",
      "2              3          1944\n",
      "3              3          1945\n",
      "4              1          1946\n",
      "..           ...           ...\n",
      "60           271          2016\n",
      "61           351          2017\n",
      "62           301          2018\n",
      "63           252          2019\n",
      "64           180          2020\n",
      "\n",
      "[65 rows x 2 columns]\n"
     ]
    }
   ],
   "source": [
    "query = \"\"\"\n",
    "            SELECT count(title), release_year\n",
    "            FROM data\n",
    "            WHERE release_year < 2021 AND type = 'Movie' AND country Like '%United States%'\n",
    "            GROUP BY release_year\n",
    "        \"\"\"\n",
    "print(sqldf(query))"
   ]
  },
  {
   "cell_type": "markdown",
   "metadata": {},
   "source": [
    "What I am going to do below is create a netflix_sql database out of the netflix_titles.csv so that i can perform sql queries\n",
    "and write the output as a pandas dataframe so that it can be used in matplotlib."
   ]
  },
  {
   "cell_type": "code",
   "execution_count": 9,
   "metadata": {},
   "outputs": [],
   "source": [
    "netflix = create_engine('sqlite:///netflix_sql.db')\n",
    "data.to_sql('data', con = netflix)\n",
    "conn = sqlite3.connect(\"netflix_sql.db\")"
   ]
  },
  {
   "cell_type": "code",
   "execution_count": 10,
   "metadata": {},
   "outputs": [
    {
     "data": {
      "text/html": [
       "<div>\n",
       "<style scoped>\n",
       "    .dataframe tbody tr th:only-of-type {\n",
       "        vertical-align: middle;\n",
       "    }\n",
       "\n",
       "    .dataframe tbody tr th {\n",
       "        vertical-align: top;\n",
       "    }\n",
       "\n",
       "    .dataframe thead th {\n",
       "        text-align: right;\n",
       "    }\n",
       "</style>\n",
       "<table border=\"1\" class=\"dataframe\">\n",
       "  <thead>\n",
       "    <tr style=\"text-align: right;\">\n",
       "      <th></th>\n",
       "      <th>count(title)</th>\n",
       "      <th>release_year</th>\n",
       "    </tr>\n",
       "  </thead>\n",
       "  <tbody>\n",
       "    <tr>\n",
       "      <th>0</th>\n",
       "      <td>2</td>\n",
       "      <td>1942</td>\n",
       "    </tr>\n",
       "    <tr>\n",
       "      <th>1</th>\n",
       "      <td>3</td>\n",
       "      <td>1943</td>\n",
       "    </tr>\n",
       "    <tr>\n",
       "      <th>2</th>\n",
       "      <td>3</td>\n",
       "      <td>1944</td>\n",
       "    </tr>\n",
       "    <tr>\n",
       "      <th>3</th>\n",
       "      <td>3</td>\n",
       "      <td>1945</td>\n",
       "    </tr>\n",
       "    <tr>\n",
       "      <th>4</th>\n",
       "      <td>1</td>\n",
       "      <td>1946</td>\n",
       "    </tr>\n",
       "  </tbody>\n",
       "</table>\n",
       "</div>"
      ],
      "text/plain": [
       "   count(title)  release_year\n",
       "0             2          1942\n",
       "1             3          1943\n",
       "2             3          1944\n",
       "3             3          1945\n",
       "4             1          1946"
      ]
     },
     "execution_count": 10,
     "metadata": {},
     "output_type": "execute_result"
    }
   ],
   "source": [
    "us_counts = pd.read_sql(query,conn)\n",
    "us_counts.head()"
   ]
  },
  {
   "cell_type": "code",
   "execution_count": 11,
   "metadata": {},
   "outputs": [
    {
     "data": {
      "text/plain": [
       "Text(0,0.5,'Num of releases')"
      ]
     },
     "execution_count": 11,
     "metadata": {},
     "output_type": "execute_result"
    },
    {
     "data": {
      "image/png": "[encoded data removed]",
      "text/plain": [
       "<Figure size 720x720 with 1 Axes>"
      ]
     },
     "metadata": {},
     "output_type": "display_data"
    }
   ],
   "source": [
    "fig = plt.figure(figsize=(10,10))\n",
    "\n",
    "plt.plot(us_counts['release_year'].values,\n",
    "         us_counts['count(title)'].values,\n",
    "         color='red')\n",
    "\n",
    "plt.title('Number of US releases each year')\n",
    "plt.xlabel('Year')\n",
    "plt.ylabel('Num of releases')"
   ]
  },
  {
   "cell_type": "markdown",
   "metadata": {},
   "source": [
    "### New query\n",
    "\n",
    "Lets find the top movie producing countries and plot the number of releases per year.  This will not include titles where \n",
    "multiple countriues releasing the same title."
   ]
  },
  {
   "cell_type": "code",
   "execution_count": 12,
   "metadata": {},
   "outputs": [
    {
     "name": "stdout",
     "output_type": "stream",
     "text": [
      "    sum         country\n",
      "0  1850   United States\n",
      "1   852           India\n",
      "2   230            None\n",
      "3   193  United Kingdom\n",
      "4   118          Canada\n",
      "5    89           Egypt\n",
      "6    89           Spain\n",
      "7    73          Turkey\n",
      "8    70     Philippines\n",
      "9    69          France\n"
     ]
    }
   ],
   "source": [
    "query = \"\"\"\n",
    "            SELECT count(title) as sum, country\n",
    "            FROM data\n",
    "            WHERE type = 'Movie'\n",
    "            GROUP BY country\n",
    "            ORDER BY count(title) DESC\n",
    "            LIMIT 10\n",
    "        \"\"\"\n",
    "print(sqldf(query))"
   ]
  },
  {
   "cell_type": "code",
   "execution_count": 13,
   "metadata": {},
   "outputs": [
    {
     "name": "stdout",
     "output_type": "stream",
     "text": [
      "     country_sum        country  release_year\n",
      "0              1          India          1959\n",
      "1              1          India          1962\n",
      "2              1          India          1964\n",
      "3              1          India          1966\n",
      "4              1          India          1969\n",
      "..           ...            ...           ...\n",
      "148          202  United States          2016\n",
      "149          279  United States          2017\n",
      "150          238  United States          2018\n",
      "151          210  United States          2019\n",
      "152          160  United States          2020\n",
      "\n",
      "[153 rows x 3 columns]\n"
     ]
    }
   ],
   "source": [
    "query = \"\"\"\n",
    "            SELECT count(title) as country_sum, country, release_year\n",
    "            FROM data\n",
    "            WHERE release_year < 2021 AND type = 'Movie' AND country LIKE 'United States' OR country LIKE 'India' OR country LIKE 'United Kingdom'\n",
    "            GROUP BY country, release_year\n",
    "        \"\"\"\n",
    "print(sqldf(query))"
   ]
  },
  {
   "cell_type": "code",
   "execution_count": 14,
   "metadata": {},
   "outputs": [
    {
     "data": {
      "text/html": [
       "<div>\n",
       "<style scoped>\n",
       "    .dataframe tbody tr th:only-of-type {\n",
       "        vertical-align: middle;\n",
       "    }\n",
       "\n",
       "    .dataframe tbody tr th {\n",
       "        vertical-align: top;\n",
       "    }\n",
       "\n",
       "    .dataframe thead th {\n",
       "        text-align: right;\n",
       "    }\n",
       "</style>\n",
       "<table border=\"1\" class=\"dataframe\">\n",
       "  <thead>\n",
       "    <tr style=\"text-align: right;\">\n",
       "      <th></th>\n",
       "      <th>country_sum</th>\n",
       "      <th>country</th>\n",
       "      <th>release_year</th>\n",
       "    </tr>\n",
       "  </thead>\n",
       "  <tbody>\n",
       "    <tr>\n",
       "      <th>0</th>\n",
       "      <td>1</td>\n",
       "      <td>India</td>\n",
       "      <td>1959</td>\n",
       "    </tr>\n",
       "    <tr>\n",
       "      <th>1</th>\n",
       "      <td>1</td>\n",
       "      <td>India</td>\n",
       "      <td>1962</td>\n",
       "    </tr>\n",
       "    <tr>\n",
       "      <th>2</th>\n",
       "      <td>1</td>\n",
       "      <td>India</td>\n",
       "      <td>1964</td>\n",
       "    </tr>\n",
       "    <tr>\n",
       "      <th>3</th>\n",
       "      <td>1</td>\n",
       "      <td>India</td>\n",
       "      <td>1966</td>\n",
       "    </tr>\n",
       "    <tr>\n",
       "      <th>4</th>\n",
       "      <td>1</td>\n",
       "      <td>India</td>\n",
       "      <td>1969</td>\n",
       "    </tr>\n",
       "  </tbody>\n",
       "</table>\n",
       "</div>"
      ],
      "text/plain": [
       "   country_sum country  release_year\n",
       "0            1   India          1959\n",
       "1            1   India          1962\n",
       "2            1   India          1964\n",
       "3            1   India          1966\n",
       "4            1   India          1969"
      ]
     },
     "execution_count": 14,
     "metadata": {},
     "output_type": "execute_result"
    }
   ],
   "source": [
    "top3_counts = pd.read_sql(query,conn)\n",
    "top3_counts.head()"
   ]
  },
  {
   "cell_type": "code",
   "execution_count": 15,
   "metadata": {},
   "outputs": [],
   "source": [
    "us = top3_counts.loc[top3_counts['country'] == 'United States']\n",
    "uk = top3_counts.loc[top3_counts['country'] == 'United Kingdom']\n",
    "In = top3_counts.loc[top3_counts['country'] == 'India']"
   ]
  },
  {
   "cell_type": "code",
   "execution_count": 16,
   "metadata": {},
   "outputs": [
    {
     "data": {
      "text/plain": [
       "<matplotlib.legend.Legend at 0x1d53a2cfbe0>"
      ]
     },
     "execution_count": 16,
     "metadata": {},
     "output_type": "execute_result"
    },
    {
     "data": {
      "image/png": "[encoded data removed]",
      "text/plain": [
       "<Figure size 720x720 with 1 Axes>"
      ]
     },
     "metadata": {},
     "output_type": "display_data"
    }
   ],
   "source": [
    "fig = plt.figure(figsize=(10,10))\n",
    "\n",
    "plt.plot(us['release_year'].values,\n",
    "         us['country_sum'].values,\n",
    "         color='blue',\n",
    "         label = 'US')\n",
    "\n",
    "plt.plot(uk['release_year'].values,\n",
    "         uk['country_sum'].values,\n",
    "         color='red',\n",
    "         label = 'UK')\n",
    "\n",
    "plt.plot(In['release_year'].values,\n",
    "         In['country_sum'].values,\n",
    "         color='orange',\n",
    "         label = 'India')\n",
    "\n",
    "\n",
    "\n",
    "plt.title('Top 3 releases each year')\n",
    "plt.xlabel('Year')\n",
    "plt.ylabel('Num of releases')\n",
    "plt.legend(prop={'size': 12})"
   ]
  },
  {
   "cell_type": "markdown",
   "metadata": {},
   "source": [
    "Why has there been a drop in movie production? It was growing exponentially for all 3 countries but took a dive towards the end of 2010. \n",
    " \n",
    "* Could it be related to newer movie titles not being made available on Netflix? \n",
    "* Could there be a higher demand for TV Shows or higher demand for movie entertainment for an earlier time?"
   ]
  },
  {
   "cell_type": "markdown",
   "metadata": {},
   "source": [
    "### New Query\n",
    "Lets find the top TV-Show producing countries and plot the number of releases per year. This will not include titles where multiple countriues releasing the same title"
   ]
  },
  {
   "cell_type": "code",
   "execution_count": 17,
   "metadata": {},
   "outputs": [
    {
     "name": "stdout",
     "output_type": "stream",
     "text": [
      "    sum                country\n",
      "0   705          United States\n",
      "1   277                   None\n",
      "2   204         United Kingdom\n",
      "3   157                  Japan\n",
      "4   147            South Korea\n",
      "5    71                  India\n",
      "6    68                 Taiwan\n",
      "7    59                 Canada\n",
      "8    46              Australia\n",
      "9    46                 France\n",
      "10   45                  Spain\n",
      "11   36                  China\n",
      "12   35                 Mexico\n",
      "13   27                 Turkey\n",
      "14   26                 Brazil\n",
      "15   22               Thailand\n",
      "16   22  United States, Canada\n",
      "17   20               Colombia\n",
      "18   19                Germany\n",
      "19   17              Singapore\n"
     ]
    }
   ],
   "source": [
    "query = \"\"\"\n",
    "            SELECT count(title) as sum, country\n",
    "            FROM data\n",
    "            WHERE type = 'TV Show'\n",
    "            GROUP BY country\n",
    "            ORDER BY count(title) DESC\n",
    "            LIMIT 20\n",
    "        \"\"\"\n",
    "print(sqldf(query))"
   ]
  },
  {
   "cell_type": "code",
   "execution_count": 18,
   "metadata": {},
   "outputs": [
    {
     "name": "stdout",
     "output_type": "stream",
     "text": [
      "     country_sum        country  release_year\n",
      "0              1          India          1959\n",
      "1              1          India          1962\n",
      "2              1          India          1964\n",
      "3              1          India          1966\n",
      "4              1          India          1969\n",
      "..           ...            ...           ...\n",
      "158           52  United States          2016\n",
      "159           72  United States          2017\n",
      "160          110  United States          2018\n",
      "161          149  United States          2019\n",
      "162          172  United States          2020\n",
      "\n",
      "[163 rows x 3 columns]\n"
     ]
    }
   ],
   "source": [
    "query = \"\"\"\n",
    "            SELECT count(title) as country_sum, country, release_year\n",
    "            FROM data\n",
    "            WHERE release_year < 2021 AND type = 'TV Show' AND country LIKE 'United States' \n",
    "            OR country LIKE 'United Kingdom' \n",
    "            OR country LIKE 'Japan'\n",
    "            OR country LIKE 'South Korea'\n",
    "            OR country LIKE 'India'\n",
    "            GROUP BY country, release_year\n",
    "        \"\"\"\n",
    "print(sqldf(query))"
   ]
  },
  {
   "cell_type": "code",
   "execution_count": 19,
   "metadata": {},
   "outputs": [
    {
     "data": {
      "text/html": [
       "<div>\n",
       "<style scoped>\n",
       "    .dataframe tbody tr th:only-of-type {\n",
       "        vertical-align: middle;\n",
       "    }\n",
       "\n",
       "    .dataframe tbody tr th {\n",
       "        vertical-align: top;\n",
       "    }\n",
       "\n",
       "    .dataframe thead th {\n",
       "        text-align: right;\n",
       "    }\n",
       "</style>\n",
       "<table border=\"1\" class=\"dataframe\">\n",
       "  <thead>\n",
       "    <tr style=\"text-align: right;\">\n",
       "      <th></th>\n",
       "      <th>country_sum</th>\n",
       "      <th>country</th>\n",
       "      <th>release_year</th>\n",
       "    </tr>\n",
       "  </thead>\n",
       "  <tbody>\n",
       "    <tr>\n",
       "      <th>0</th>\n",
       "      <td>1</td>\n",
       "      <td>India</td>\n",
       "      <td>1959</td>\n",
       "    </tr>\n",
       "    <tr>\n",
       "      <th>1</th>\n",
       "      <td>1</td>\n",
       "      <td>India</td>\n",
       "      <td>1962</td>\n",
       "    </tr>\n",
       "    <tr>\n",
       "      <th>2</th>\n",
       "      <td>1</td>\n",
       "      <td>India</td>\n",
       "      <td>1964</td>\n",
       "    </tr>\n",
       "    <tr>\n",
       "      <th>3</th>\n",
       "      <td>1</td>\n",
       "      <td>India</td>\n",
       "      <td>1966</td>\n",
       "    </tr>\n",
       "    <tr>\n",
       "      <th>4</th>\n",
       "      <td>1</td>\n",
       "      <td>India</td>\n",
       "      <td>1969</td>\n",
       "    </tr>\n",
       "    <tr>\n",
       "      <th>...</th>\n",
       "      <td>...</td>\n",
       "      <td>...</td>\n",
       "      <td>...</td>\n",
       "    </tr>\n",
       "    <tr>\n",
       "      <th>158</th>\n",
       "      <td>52</td>\n",
       "      <td>United States</td>\n",
       "      <td>2016</td>\n",
       "    </tr>\n",
       "    <tr>\n",
       "      <th>159</th>\n",
       "      <td>72</td>\n",
       "      <td>United States</td>\n",
       "      <td>2017</td>\n",
       "    </tr>\n",
       "    <tr>\n",
       "      <th>160</th>\n",
       "      <td>110</td>\n",
       "      <td>United States</td>\n",
       "      <td>2018</td>\n",
       "    </tr>\n",
       "    <tr>\n",
       "      <th>161</th>\n",
       "      <td>149</td>\n",
       "      <td>United States</td>\n",
       "      <td>2019</td>\n",
       "    </tr>\n",
       "    <tr>\n",
       "      <th>162</th>\n",
       "      <td>172</td>\n",
       "      <td>United States</td>\n",
       "      <td>2020</td>\n",
       "    </tr>\n",
       "  </tbody>\n",
       "</table>\n",
       "<p>163 rows × 3 columns</p>\n",
       "</div>"
      ],
      "text/plain": [
       "     country_sum        country  release_year\n",
       "0              1          India          1959\n",
       "1              1          India          1962\n",
       "2              1          India          1964\n",
       "3              1          India          1966\n",
       "4              1          India          1969\n",
       "..           ...            ...           ...\n",
       "158           52  United States          2016\n",
       "159           72  United States          2017\n",
       "160          110  United States          2018\n",
       "161          149  United States          2019\n",
       "162          172  United States          2020\n",
       "\n",
       "[163 rows x 3 columns]"
      ]
     },
     "execution_count": 19,
     "metadata": {},
     "output_type": "execute_result"
    }
   ],
   "source": [
    "top_TV_counts = pd.read_sql(query,conn)\n",
    "top_TV_counts"
   ]
  },
  {
   "cell_type": "code",
   "execution_count": 20,
   "metadata": {},
   "outputs": [],
   "source": [
    "us = top_TV_counts.loc[top_TV_counts['country'] == 'United States']\n",
    "uk = top_TV_counts.loc[top_TV_counts['country'] == 'United Kingdom']\n",
    "In = top_TV_counts.loc[top_TV_counts['country'] == 'India']\n",
    "jp = top_TV_counts.loc[top_TV_counts['country'] == 'Japan']\n",
    "sk = top_TV_counts.loc[top_TV_counts['country'] == 'South Korea']"
   ]
  },
  {
   "cell_type": "code",
   "execution_count": 21,
   "metadata": {},
   "outputs": [
    {
     "data": {
      "text/plain": [
       "<matplotlib.legend.Legend at 0x1d53a2b5438>"
      ]
     },
     "execution_count": 21,
     "metadata": {},
     "output_type": "execute_result"
    },
    {
     "data": {
      "image/png": "[encoded data removed]",
      "text/plain": [
       "<Figure size 720x720 with 1 Axes>"
      ]
     },
     "metadata": {},
     "output_type": "display_data"
    }
   ],
   "source": [
    "fig = plt.figure(figsize=(10,10))\n",
    "\n",
    "plt.plot(us['release_year'].values,\n",
    "         us['country_sum'].values,\n",
    "         color='blue',\n",
    "         label = 'US')\n",
    "\n",
    "plt.plot(uk['release_year'].values,\n",
    "         uk['country_sum'].values,\n",
    "         color='red',\n",
    "         label = 'UK')\n",
    "\n",
    "plt.plot(In['release_year'].values,\n",
    "         In['country_sum'].values,\n",
    "         color='orange',\n",
    "         label = 'India')\n",
    "\n",
    "plt.plot(jp['release_year'].values,\n",
    "         jp['country_sum'].values,\n",
    "         color='green',\n",
    "         label = 'Japan')\n",
    "\n",
    "plt.plot(sk['release_year'].values,\n",
    "         sk['country_sum'].values,\n",
    "         color='purple',\n",
    "         label = 'S.Korea')\n",
    "\n",
    "\n",
    "\n",
    "plt.title('Top TV releases each year')\n",
    "plt.xlabel('Year')\n",
    "plt.ylabel('Num of releases')\n",
    "plt.legend(prop={'size': 12})"
   ]
  },
  {
   "cell_type": "markdown",
   "metadata": {},
   "source": [
    "At a quick glance, it would appear that the US has an exponential growth in US-based TV Shows on Netflix. If there was more information in the csv on 'user ratings' and 'Netflix Original TV Shows', I feel that some more useful information could be extract out of these graphs and why some countries show a decline in both new Movies and TV Shows. "
   ]
  }
 ],
 "metadata": {
  "kernelspec": {
   "display_name": "Python 3",
   "language": "python",
   "name": "python3"
  },
  "language_info": {
   "codemirror_mode": {
    "name": "ipython",
    "version": 3
   },
   "file_extension": ".py",
   "mimetype": "text/x-python",
   "name": "python",
   "nbconvert_exporter": "python",
   "pygments_lexer": "ipython3",
   "version": "3.6.5"
  }
 },
 "nbformat": 4,
 "nbformat_minor": 2
}
